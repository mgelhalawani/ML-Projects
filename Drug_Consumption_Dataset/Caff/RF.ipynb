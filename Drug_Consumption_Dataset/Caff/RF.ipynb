{
 "cells": [
  {
   "cell_type": "markdown",
   "metadata": {},
   "source": [
    "This is a Decision Tree Classifier for Ecstasy. "
   ]
  },
  {
   "cell_type": "markdown",
   "metadata": {},
   "source": [
    "We read the data from a CSV file that has the only needed features for training"
   ]
  },
  {
   "cell_type": "code",
   "execution_count": 9,
   "metadata": {},
   "outputs": [
    {
     "data": {
      "text/html": [
       "<div>\n",
       "<style scoped>\n",
       "    .dataframe tbody tr th:only-of-type {\n",
       "        vertical-align: middle;\n",
       "    }\n",
       "\n",
       "    .dataframe tbody tr th {\n",
       "        vertical-align: top;\n",
       "    }\n",
       "\n",
       "    .dataframe thead th {\n",
       "        text-align: right;\n",
       "    }\n",
       "</style>\n",
       "<table border=\"1\" class=\"dataframe\">\n",
       "  <thead>\n",
       "    <tr style=\"text-align: right;\">\n",
       "      <th></th>\n",
       "      <th>ID</th>\n",
       "      <th>Age</th>\n",
       "      <th>Gender</th>\n",
       "      <th>Education</th>\n",
       "      <th>Countery</th>\n",
       "      <th>Ethnicity</th>\n",
       "      <th>NScore</th>\n",
       "      <th>EScore</th>\n",
       "      <th>OScore</th>\n",
       "      <th>AScore</th>\n",
       "      <th>...</th>\n",
       "      <th>Cannabis</th>\n",
       "      <th>Cannabis_Consume</th>\n",
       "      <th>Choc</th>\n",
       "      <th>Choc_Consume</th>\n",
       "      <th>Ecstasy</th>\n",
       "      <th>Ecstasy_Consume</th>\n",
       "      <th>Nicotine</th>\n",
       "      <th>Nicotine_Consume</th>\n",
       "      <th>VSA</th>\n",
       "      <th>VSA_Consume</th>\n",
       "    </tr>\n",
       "  </thead>\n",
       "  <tbody>\n",
       "    <tr>\n",
       "      <th>0</th>\n",
       "      <td>1</td>\n",
       "      <td>0.49788</td>\n",
       "      <td>0.48246</td>\n",
       "      <td>-0.05921</td>\n",
       "      <td>0.96082</td>\n",
       "      <td>0.12600</td>\n",
       "      <td>0.31287</td>\n",
       "      <td>-0.57545</td>\n",
       "      <td>-0.58331</td>\n",
       "      <td>-0.91699</td>\n",
       "      <td>...</td>\n",
       "      <td>CL0</td>\n",
       "      <td>0</td>\n",
       "      <td>CL5</td>\n",
       "      <td>1</td>\n",
       "      <td>CL0</td>\n",
       "      <td>0</td>\n",
       "      <td>CL2</td>\n",
       "      <td>1</td>\n",
       "      <td>CL0</td>\n",
       "      <td>0</td>\n",
       "    </tr>\n",
       "    <tr>\n",
       "      <th>1</th>\n",
       "      <td>2</td>\n",
       "      <td>-0.07854</td>\n",
       "      <td>-0.48246</td>\n",
       "      <td>1.98437</td>\n",
       "      <td>0.96082</td>\n",
       "      <td>-0.31685</td>\n",
       "      <td>-0.67825</td>\n",
       "      <td>1.93886</td>\n",
       "      <td>1.43533</td>\n",
       "      <td>0.76096</td>\n",
       "      <td>...</td>\n",
       "      <td>CL4</td>\n",
       "      <td>1</td>\n",
       "      <td>CL6</td>\n",
       "      <td>1</td>\n",
       "      <td>CL4</td>\n",
       "      <td>1</td>\n",
       "      <td>CL4</td>\n",
       "      <td>1</td>\n",
       "      <td>CL0</td>\n",
       "      <td>0</td>\n",
       "    </tr>\n",
       "    <tr>\n",
       "      <th>2</th>\n",
       "      <td>3</td>\n",
       "      <td>0.49788</td>\n",
       "      <td>-0.48246</td>\n",
       "      <td>-0.05921</td>\n",
       "      <td>0.96082</td>\n",
       "      <td>-0.31685</td>\n",
       "      <td>-0.46725</td>\n",
       "      <td>0.80523</td>\n",
       "      <td>-0.84732</td>\n",
       "      <td>-1.62090</td>\n",
       "      <td>...</td>\n",
       "      <td>CL3</td>\n",
       "      <td>1</td>\n",
       "      <td>CL4</td>\n",
       "      <td>1</td>\n",
       "      <td>CL0</td>\n",
       "      <td>0</td>\n",
       "      <td>CL0</td>\n",
       "      <td>0</td>\n",
       "      <td>CL0</td>\n",
       "      <td>0</td>\n",
       "    </tr>\n",
       "    <tr>\n",
       "      <th>3</th>\n",
       "      <td>4</td>\n",
       "      <td>-0.95197</td>\n",
       "      <td>0.48246</td>\n",
       "      <td>1.16365</td>\n",
       "      <td>0.96082</td>\n",
       "      <td>-0.31685</td>\n",
       "      <td>-0.14882</td>\n",
       "      <td>-0.80615</td>\n",
       "      <td>-0.01928</td>\n",
       "      <td>0.59042</td>\n",
       "      <td>...</td>\n",
       "      <td>CL2</td>\n",
       "      <td>1</td>\n",
       "      <td>CL4</td>\n",
       "      <td>1</td>\n",
       "      <td>CL0</td>\n",
       "      <td>0</td>\n",
       "      <td>CL2</td>\n",
       "      <td>1</td>\n",
       "      <td>CL0</td>\n",
       "      <td>0</td>\n",
       "    </tr>\n",
       "    <tr>\n",
       "      <th>4</th>\n",
       "      <td>5</td>\n",
       "      <td>0.49788</td>\n",
       "      <td>0.48246</td>\n",
       "      <td>1.98437</td>\n",
       "      <td>0.96082</td>\n",
       "      <td>-0.31685</td>\n",
       "      <td>0.73545</td>\n",
       "      <td>-1.63340</td>\n",
       "      <td>-0.45174</td>\n",
       "      <td>-0.30172</td>\n",
       "      <td>...</td>\n",
       "      <td>CL3</td>\n",
       "      <td>1</td>\n",
       "      <td>CL6</td>\n",
       "      <td>1</td>\n",
       "      <td>CL1</td>\n",
       "      <td>0</td>\n",
       "      <td>CL2</td>\n",
       "      <td>1</td>\n",
       "      <td>CL0</td>\n",
       "      <td>0</td>\n",
       "    </tr>\n",
       "  </tbody>\n",
       "</table>\n",
       "<p>5 rows × 25 columns</p>\n",
       "</div>"
      ],
      "text/plain": [
       "   ID      Age   Gender  Education  Countery  Ethnicity   NScore   EScore  \\\n",
       "0   1  0.49788  0.48246   -0.05921   0.96082    0.12600  0.31287 -0.57545   \n",
       "1   2 -0.07854 -0.48246    1.98437   0.96082   -0.31685 -0.67825  1.93886   \n",
       "2   3  0.49788 -0.48246   -0.05921   0.96082   -0.31685 -0.46725  0.80523   \n",
       "3   4 -0.95197  0.48246    1.16365   0.96082   -0.31685 -0.14882 -0.80615   \n",
       "4   5  0.49788  0.48246    1.98437   0.96082   -0.31685  0.73545 -1.63340   \n",
       "\n",
       "    OScore   AScore  ...  Cannabis  Cannabis_Consume  Choc Choc_Consume  \\\n",
       "0 -0.58331 -0.91699  ...       CL0                 0   CL5            1   \n",
       "1  1.43533  0.76096  ...       CL4                 1   CL6            1   \n",
       "2 -0.84732 -1.62090  ...       CL3                 1   CL4            1   \n",
       "3 -0.01928  0.59042  ...       CL2                 1   CL4            1   \n",
       "4 -0.45174 -0.30172  ...       CL3                 1   CL6            1   \n",
       "\n",
       "   Ecstasy Ecstasy_Consume  Nicotine Nicotine_Consume  VSA VSA_Consume  \n",
       "0      CL0               0       CL2                1  CL0           0  \n",
       "1      CL4               1       CL4                1  CL0           0  \n",
       "2      CL0               0       CL0                0  CL0           0  \n",
       "3      CL0               0       CL2                1  CL0           0  \n",
       "4      CL1               0       CL2                1  CL0           0  \n",
       "\n",
       "[5 rows x 25 columns]"
      ]
     },
     "execution_count": 9,
     "metadata": {},
     "output_type": "execute_result"
    }
   ],
   "source": [
    "import pandas as pd\n",
    "from sklearn import svm\n",
    "\n",
    "path = '../drug_consumption_engineered.csv'\n",
    "data = pd.read_csv(path)\n",
    "\n",
    "data.head()"
   ]
  },
  {
   "cell_type": "markdown",
   "metadata": {},
   "source": [
    "Then, we can select the features we want to use in training"
   ]
  },
  {
   "cell_type": "code",
   "execution_count": 10,
   "metadata": {},
   "outputs": [
    {
     "data": {
      "text/html": [
       "<div>\n",
       "<style scoped>\n",
       "    .dataframe tbody tr th:only-of-type {\n",
       "        vertical-align: middle;\n",
       "    }\n",
       "\n",
       "    .dataframe tbody tr th {\n",
       "        vertical-align: top;\n",
       "    }\n",
       "\n",
       "    .dataframe thead th {\n",
       "        text-align: right;\n",
       "    }\n",
       "</style>\n",
       "<table border=\"1\" class=\"dataframe\">\n",
       "  <thead>\n",
       "    <tr style=\"text-align: right;\">\n",
       "      <th></th>\n",
       "      <th>Age</th>\n",
       "      <th>Gender</th>\n",
       "      <th>Education</th>\n",
       "      <th>Countery</th>\n",
       "      <th>Ethnicity</th>\n",
       "      <th>NScore</th>\n",
       "      <th>EScore</th>\n",
       "      <th>OScore</th>\n",
       "      <th>AScore</th>\n",
       "      <th>CScore</th>\n",
       "      <th>Impulsive</th>\n",
       "      <th>SS</th>\n",
       "    </tr>\n",
       "  </thead>\n",
       "  <tbody>\n",
       "    <tr>\n",
       "      <th>0</th>\n",
       "      <td>0.49788</td>\n",
       "      <td>0.48246</td>\n",
       "      <td>-0.05921</td>\n",
       "      <td>0.96082</td>\n",
       "      <td>0.12600</td>\n",
       "      <td>0.31287</td>\n",
       "      <td>-0.57545</td>\n",
       "      <td>-0.58331</td>\n",
       "      <td>-0.91699</td>\n",
       "      <td>-0.00665</td>\n",
       "      <td>-0.21712</td>\n",
       "      <td>-1.18084</td>\n",
       "    </tr>\n",
       "    <tr>\n",
       "      <th>1</th>\n",
       "      <td>-0.07854</td>\n",
       "      <td>-0.48246</td>\n",
       "      <td>1.98437</td>\n",
       "      <td>0.96082</td>\n",
       "      <td>-0.31685</td>\n",
       "      <td>-0.67825</td>\n",
       "      <td>1.93886</td>\n",
       "      <td>1.43533</td>\n",
       "      <td>0.76096</td>\n",
       "      <td>-0.14277</td>\n",
       "      <td>-0.71126</td>\n",
       "      <td>-0.21575</td>\n",
       "    </tr>\n",
       "    <tr>\n",
       "      <th>2</th>\n",
       "      <td>0.49788</td>\n",
       "      <td>-0.48246</td>\n",
       "      <td>-0.05921</td>\n",
       "      <td>0.96082</td>\n",
       "      <td>-0.31685</td>\n",
       "      <td>-0.46725</td>\n",
       "      <td>0.80523</td>\n",
       "      <td>-0.84732</td>\n",
       "      <td>-1.62090</td>\n",
       "      <td>-1.01450</td>\n",
       "      <td>-1.37983</td>\n",
       "      <td>0.40148</td>\n",
       "    </tr>\n",
       "    <tr>\n",
       "      <th>3</th>\n",
       "      <td>-0.95197</td>\n",
       "      <td>0.48246</td>\n",
       "      <td>1.16365</td>\n",
       "      <td>0.96082</td>\n",
       "      <td>-0.31685</td>\n",
       "      <td>-0.14882</td>\n",
       "      <td>-0.80615</td>\n",
       "      <td>-0.01928</td>\n",
       "      <td>0.59042</td>\n",
       "      <td>0.58489</td>\n",
       "      <td>-1.37983</td>\n",
       "      <td>-1.18084</td>\n",
       "    </tr>\n",
       "    <tr>\n",
       "      <th>4</th>\n",
       "      <td>0.49788</td>\n",
       "      <td>0.48246</td>\n",
       "      <td>1.98437</td>\n",
       "      <td>0.96082</td>\n",
       "      <td>-0.31685</td>\n",
       "      <td>0.73545</td>\n",
       "      <td>-1.63340</td>\n",
       "      <td>-0.45174</td>\n",
       "      <td>-0.30172</td>\n",
       "      <td>1.30612</td>\n",
       "      <td>-0.21712</td>\n",
       "      <td>-0.21575</td>\n",
       "    </tr>\n",
       "  </tbody>\n",
       "</table>\n",
       "</div>"
      ],
      "text/plain": [
       "       Age   Gender  Education  Countery  Ethnicity   NScore   EScore  \\\n",
       "0  0.49788  0.48246   -0.05921   0.96082    0.12600  0.31287 -0.57545   \n",
       "1 -0.07854 -0.48246    1.98437   0.96082   -0.31685 -0.67825  1.93886   \n",
       "2  0.49788 -0.48246   -0.05921   0.96082   -0.31685 -0.46725  0.80523   \n",
       "3 -0.95197  0.48246    1.16365   0.96082   -0.31685 -0.14882 -0.80615   \n",
       "4  0.49788  0.48246    1.98437   0.96082   -0.31685  0.73545 -1.63340   \n",
       "\n",
       "    OScore   AScore   CScore  Impulsive       SS  \n",
       "0 -0.58331 -0.91699 -0.00665   -0.21712 -1.18084  \n",
       "1  1.43533  0.76096 -0.14277   -0.71126 -0.21575  \n",
       "2 -0.84732 -1.62090 -1.01450   -1.37983  0.40148  \n",
       "3 -0.01928  0.59042  0.58489   -1.37983 -1.18084  \n",
       "4 -0.45174 -0.30172  1.30612   -0.21712 -0.21575  "
      ]
     },
     "execution_count": 10,
     "metadata": {},
     "output_type": "execute_result"
    }
   ],
   "source": [
    "\n",
    "selected_feature_columns = ['Age', 'Gender', 'Education', 'Countery', 'Ethnicity', 'NScore', 'EScore', 'OScore', 'AScore', 'CScore', 'Impulsive', 'SS']\n",
    "selected_feature = data.loc[:, selected_feature_columns]\n",
    "selected_feature.head()"
   ]
  },
  {
   "cell_type": "markdown",
   "metadata": {},
   "source": [
    "Then we select the target class"
   ]
  },
  {
   "cell_type": "code",
   "execution_count": 11,
   "metadata": {},
   "outputs": [
    {
     "data": {
      "text/plain": [
       "0    1\n",
       "1    1\n",
       "2    1\n",
       "3    1\n",
       "4    1\n",
       "Name: Caff_Consume, dtype: int64"
      ]
     },
     "execution_count": 11,
     "metadata": {},
     "output_type": "execute_result"
    }
   ],
   "source": [
    "selected_target = data.Caff_Consume\n",
    "selected_target.head()"
   ]
  },
  {
   "cell_type": "markdown",
   "metadata": {},
   "source": [
    "Now that we have the selected features and target, we split the data into train and test datasets "
   ]
  },
  {
   "cell_type": "code",
   "execution_count": 12,
   "metadata": {},
   "outputs": [
    {
     "data": {
      "text/plain": [
       "((1262, 12), (623, 12), (1262,), (623,))"
      ]
     },
     "execution_count": 12,
     "metadata": {},
     "output_type": "execute_result"
    }
   ],
   "source": [
    "from sklearn.model_selection import train_test_split\n",
    "\n",
    "features_train, features_test, target_train, target_test = train_test_split(selected_feature, selected_target, test_size=0.33)\n",
    "\n",
    "features_train.shape, features_test.shape, target_train.shape, target_test.shape"
   ]
  },
  {
   "cell_type": "markdown",
   "metadata": {},
   "source": [
    "With that, we have the data we want to use the training procesure. So, fit the data to the model"
   ]
  },
  {
   "cell_type": "code",
   "execution_count": 13,
   "metadata": {},
   "outputs": [],
   "source": [
    "from sklearn.ensemble import RandomForestClassifier\n",
    "classifer = RandomForestClassifier()\n",
    "classifer = classifer.fit(features_train, target_train)"
   ]
  },
  {
   "cell_type": "markdown",
   "metadata": {},
   "source": [
    "Now we can have the confusion matrix"
   ]
  },
  {
   "cell_type": "code",
   "execution_count": 14,
   "metadata": {},
   "outputs": [
    {
     "data": {
      "text/plain": [
       "<sklearn.metrics._plot.confusion_matrix.ConfusionMatrixDisplay at 0x12cc06b50>"
      ]
     },
     "execution_count": 14,
     "metadata": {},
     "output_type": "execute_result"
    },
    {
     "data": {
      "image/png": "[encoded data removed]",
      "text/plain": [
       "<Figure size 640x480 with 2 Axes>"
      ]
     },
     "metadata": {},
     "output_type": "display_data"
    }
   ],
   "source": [
    "from sklearn import metrics\n",
    "\n",
    "metrics.ConfusionMatrixDisplay.from_estimator(classifer, features_test, target_test)\n"
   ]
  },
  {
   "cell_type": "markdown",
   "metadata": {},
   "source": [
    "Calculating recalls and precisions score"
   ]
  },
  {
   "cell_type": "code",
   "execution_count": 15,
   "metadata": {},
   "outputs": [
    {
     "data": {
      "text/plain": [
       "(0.9887640449438202, 1.0)"
      ]
     },
     "execution_count": 15,
     "metadata": {},
     "output_type": "execute_result"
    }
   ],
   "source": [
    "predictions = classifer.predict(features_test)\n",
    "\n",
    "precision = metrics.precision_score(target_test, predictions)\n",
    "recall = metrics.recall_score(target_test, predictions)\n",
    "(precision, recall)"
   ]
  },
  {
   "cell_type": "markdown",
   "metadata": {},
   "source": [
    "The ROC"
   ]
  },
  {
   "cell_type": "code",
   "execution_count": 16,
   "metadata": {},
   "outputs": [
    {
     "data": {
      "text/plain": [
       "<sklearn.metrics._plot.roc_curve.RocCurveDisplay at 0x1096df5e0>"
      ]
     },
     "execution_count": 16,
     "metadata": {},
     "output_type": "execute_result"
    },
    {
     "data": {
      "image/png": "[encoded data removed]",
      "text/plain": [
       "<Figure size 640x480 with 1 Axes>"
      ]
     },
     "metadata": {},
     "output_type": "display_data"
    }
   ],
   "source": [
    "\n",
    "import matplotlib.pyplot as plot\n",
    "\n",
    "metrics.RocCurveDisplay.from_estimator(classifer, features_test, target_test)"
   ]
  }
 ],
 "metadata": {
  "kernelspec": {
   "display_name": "Python 3.9.6 64-bit",
   "language": "python",
   "name": "python3"
  },
  "language_info": {
   "codemirror_mode": {
    "name": "ipython",
    "version": 3
   },
   "file_extension": ".py",
   "mimetype": "text/x-python",
   "name": "python",
   "nbconvert_exporter": "python",
   "pygments_lexer": "ipython3",
   "version": "3.9.6"
  },
  "orig_nbformat": 4,
  "vscode": {
   "interpreter": {
    "hash": "31f2aee4e71d21fbe5cf8b01ff0e069b9275f58929596ceb00d14d90e3e16cd6"
   }
  }
 },
 "nbformat": 4,
 "nbformat_minor": 2
}
