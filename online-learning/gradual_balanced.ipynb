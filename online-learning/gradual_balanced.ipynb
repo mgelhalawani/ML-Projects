{
 "cells": [
  {
   "attachments": {},
   "cell_type": "markdown",
   "metadata": {},
   "source": [
    "To start, I modified the dataset to chnage the class data type from object (a list of names) to numeric. The following describes the values: \n",
    "\n",
    "0 = ae-aegypti-female\n",
    "1 = ae-aegypti-male\n",
    "2 = ae-albopictus-female\n",
    "3 = ae-albopictus-male \n",
    "4 = cx-quinq-female\n",
    "5 = cx-quinq-male"
   ]
  },
  {
   "attachments": {},
   "cell_type": "markdown",
   "metadata": {},
   "source": [
    "Load modified dataset"
   ]
  },
  {
   "cell_type": "code",
   "execution_count": 11,
   "metadata": {},
   "outputs": [],
   "source": [
    "import pandas as pd\n",
    "from scipy.io import arff\n",
    "\n",
    "path = 'datasets/INSECTS-gradual_balanced_norm_mod.arff'\n",
    "data, meta = arff.loadarff(path)"
   ]
  },
  {
   "attachments": {},
   "cell_type": "markdown",
   "metadata": {},
   "source": [
    "Building the data stream and defining convenience methods"
   ]
  },
  {
   "cell_type": "code",
   "execution_count": 12,
   "metadata": {},
   "outputs": [],
   "source": [
    "from skmultiflow.data import DataStream\n",
    "import numpy\n",
    "\n",
    "dataStream = DataStream(data=data, target_idx=33, n_targets=1)\n",
    "\n",
    "def buildWindow():\n",
    "    x = []\n",
    "    y = []\n",
    "    for index in range(0, 1000):\n",
    "        sample_x, sample_y = dataStream.next_sample()\n",
    "        x.append(sample_x)\n",
    "        y.append(sample_y)\n",
    "    return x, y\n",
    "\n",
    "def updateWindow(x: list[float], y: list[float], new_x, new_y):\n",
    "    x.pop(0)\n",
    "    x.append(new_x)\n",
    "    \n",
    "    y.pop(0)\n",
    "    y.append(new_y)\n",
    "    \n",
    "    return x, y"
   ]
  },
  {
   "cell_type": "code",
   "execution_count": 13,
   "metadata": {},
   "outputs": [],
   "source": [
    "def runNoChange():\n",
    "\n",
    "    window = buildWindow()\n",
    "    X_train = window[0]\n",
    "    Y_train = window[1]\n",
    "    n_samples = 0\n",
    "    correct_count = 0\n",
    "    accuracy = []\n",
    "    time = []\n",
    "    previous_prediction = Y_train[len(Y_train) - 1]\n",
    "\n",
    "    while (dataStream.has_more_samples()):\n",
    "        new_x, new_y = dataStream.next_sample()\n",
    "        n_samples += 1\n",
    "        \n",
    "        y = previous_prediction\n",
    "\n",
    "        if new_y == y:\n",
    "            correct_count += 1\n",
    "                \n",
    "        accuracy.append(correct_count / n_samples)\n",
    "\n",
    "        time.append(n_samples)\n",
    "\n",
    "        previous_prediction = new_y\n",
    "    \n",
    "    dataStream.restart()\n",
    "    return time, accuracy"
   ]
  },
  {
   "cell_type": "code",
   "execution_count": 14,
   "metadata": {},
   "outputs": [],
   "source": [
    "def runMajorityClass():\n",
    "    from sklearn.dummy import DummyClassifier\n",
    "    window = buildWindow()\n",
    "    X_train = window[0]\n",
    "    Y_train = window[1]\n",
    "\n",
    "    majority_cls = DummyClassifier(strategy='most_frequent')\n",
    "    majority_cls.fit(X_train, Y_train)\n",
    "\n",
    "    n_samples = 0\n",
    "    correct_count = 0\n",
    "    accuracy = []\n",
    "    time = []\n",
    "\n",
    "    while (dataStream.has_more_samples()):\n",
    "        new_x, new_y = dataStream.next_sample()\n",
    "        n_samples += 1\n",
    "        \n",
    "        y = majority_cls.predict(new_x)\n",
    "\n",
    "        if new_y == y:\n",
    "            correct_count += 1\n",
    "                \n",
    "        accuracy.append(correct_count / n_samples)\n",
    "\n",
    "        time.append(n_samples)\n",
    "\n",
    "        X_train, Y_train = updateWindow(X_train, Y_train, new_x, new_y)\n",
    "        majority_cls.fit(X_train, Y_train)\n",
    "\n",
    "    dataStream.restart()\n",
    "    return time, accuracy\n"
   ]
  },
  {
   "cell_type": "code",
   "execution_count": 15,
   "metadata": {},
   "outputs": [],
   "source": [
    "def runHoeffdingTreeClassifier():\n",
    "    from skmultiflow.trees import HoeffdingTreeClassifier\n",
    "\n",
    "    window = dataStream.next_sample(batch_size=1000)\n",
    "    X_train = window[0]\n",
    "    Y_train = window[1]\n",
    "\n",
    "    ht = HoeffdingTreeClassifier()\n",
    "    ht.partial_fit(X_train, Y_train)\n",
    "\n",
    "    n_samples = 0\n",
    "    correct_count = 0\n",
    "    accuracy = []\n",
    "    time = []\n",
    "\n",
    "    while (dataStream.has_more_samples()):\n",
    "        new_x, new_y = dataStream.next_sample()\n",
    "        n_samples += 1\n",
    "        \n",
    "        y = ht.predict(new_x)\n",
    "\n",
    "        if new_y == y:\n",
    "            correct_count += 1\n",
    "                \n",
    "        accuracy.append(correct_count / n_samples)\n",
    "\n",
    "        time.append(n_samples)\n",
    "        ht.partial_fit(new_x, new_y)\n",
    "    \n",
    "    dataStream.restart()\n",
    "    return time, accuracy"
   ]
  },
  {
   "cell_type": "code",
   "execution_count": 16,
   "metadata": {},
   "outputs": [],
   "source": [
    "def runHoeffdingAdaptiveTreeClassifier():\n",
    "    from skmultiflow.trees import HoeffdingAdaptiveTreeClassifier\n",
    "\n",
    "    window = dataStream.next_sample(batch_size=1000)\n",
    "    X_train = window[0]\n",
    "    Y_train = window[1]\n",
    "\n",
    "    ht = HoeffdingAdaptiveTreeClassifier()\n",
    "    ht.partial_fit(X_train, Y_train)\n",
    "\n",
    "    n_samples = 0\n",
    "    correct_count = 0\n",
    "    accuracy = []\n",
    "    time = []\n",
    "\n",
    "    while (dataStream.has_more_samples()):\n",
    "        new_x, new_y = dataStream.next_sample()\n",
    "        n_samples += 1\n",
    "        \n",
    "        y = ht.predict(new_x)\n",
    "\n",
    "        if new_y == y:\n",
    "            correct_count += 1\n",
    "                \n",
    "        accuracy.append(correct_count / n_samples)\n",
    "\n",
    "        time.append(n_samples)\n",
    "        ht.partial_fit(new_x, new_y)\n",
    "    \n",
    "    dataStream.restart()\n",
    "    return time, accuracy"
   ]
  },
  {
   "cell_type": "code",
   "execution_count": 17,
   "metadata": {},
   "outputs": [],
   "source": [
    "def runSAMKNNClassifier():\n",
    "    from skmultiflow.lazy import SAMKNNClassifier\n",
    "\n",
    "    window = dataStream.next_sample(batch_size=1000)\n",
    "    X_train = window[0]\n",
    "    Y_train = window[1]\n",
    "\n",
    "    ht = SAMKNNClassifier()\n",
    "    ht.partial_fit(X_train, Y_train)\n",
    "\n",
    "    n_samples = 0\n",
    "    correct_count = 0\n",
    "    accuracy = []\n",
    "    time = []\n",
    "\n",
    "    while (dataStream.has_more_samples()):\n",
    "        new_x, new_y = dataStream.next_sample()\n",
    "        n_samples += 1\n",
    "        \n",
    "        y = ht.predict(new_x)\n",
    "\n",
    "        if new_y == y:\n",
    "            correct_count += 1\n",
    "                \n",
    "        accuracy.append(correct_count / n_samples)\n",
    "\n",
    "        time.append(n_samples)\n",
    "        ht.partial_fit(new_x, new_y)\n",
    "    \n",
    "    dataStream.restart()\n",
    "    return time, accuracy"
   ]
  },
  {
   "cell_type": "code",
   "execution_count": 18,
   "metadata": {},
   "outputs": [],
   "source": [
    "def runBatchIncrementalClassifier():\n",
    "    from skmultiflow.meta import BatchIncrementalClassifier\n",
    "\n",
    "    window = dataStream.next_sample(batch_size=1000)\n",
    "    X_train = window[0]\n",
    "    Y_train = window[1]\n",
    "\n",
    "    ht = BatchIncrementalClassifier()\n",
    "    ht.partial_fit(X_train, Y_train)\n",
    "\n",
    "    n_samples = 0\n",
    "    correct_count = 0\n",
    "    accuracy = []\n",
    "    time = []\n",
    "\n",
    "    while (dataStream.has_more_samples()):\n",
    "        new_x, new_y = dataStream.next_sample()\n",
    "        n_samples += 1\n",
    "        \n",
    "        y = ht.predict(new_x)\n",
    "\n",
    "        if new_y == y:\n",
    "            correct_count += 1\n",
    "                \n",
    "        accuracy.append(correct_count / n_samples)\n",
    "\n",
    "        time.append(n_samples)\n",
    "        ht.partial_fit(new_x, new_y)\n",
    "    \n",
    "    dataStream.restart()\n",
    "    return time, accuracy"
   ]
  },
  {
   "cell_type": "code",
   "execution_count": 19,
   "metadata": {},
   "outputs": [],
   "source": [
    "def runAdaptiveRandomForestClassifier():\n",
    "    from skmultiflow.meta import AdaptiveRandomForestClassifier\n",
    "\n",
    "    window = dataStream.next_sample(batch_size=1000)\n",
    "    X_train = window[0]\n",
    "    Y_train = window[1]\n",
    "\n",
    "    ht = AdaptiveRandomForestClassifier()\n",
    "    ht.partial_fit(X_train, Y_train)\n",
    "\n",
    "    n_samples = 0\n",
    "    correct_count = 0\n",
    "    accuracy = []\n",
    "    time = []\n",
    "\n",
    "    while (dataStream.has_more_samples()):\n",
    "        new_x, new_y = dataStream.next_sample()\n",
    "        n_samples += 1\n",
    "        \n",
    "        y = ht.predict(new_x)\n",
    "\n",
    "        if new_y == y:\n",
    "            correct_count += 1\n",
    "                \n",
    "        accuracy.append(correct_count / n_samples)\n",
    "\n",
    "        time.append(n_samples)\n",
    "        ht.partial_fit(new_x, new_y)\n",
    "    \n",
    "    dataStream.restart()\n",
    "    return time, accuracy"
   ]
  },
  {
   "cell_type": "code",
   "execution_count": 20,
   "metadata": {},
   "outputs": [],
   "source": [
    "no_change = runNoChange()\n",
    "majority_cls = runMajorityClass()\n",
    "hoeffding_tree = runHoeffdingTreeClassifier()\n",
    "hoeffding_adaptive = runHoeffdingAdaptiveTreeClassifier()\n",
    "SAM_KNN = runSAMKNNClassifier()\n",
    "batch_incremental = runBatchIncrementalClassifier()\n",
    "adaptive_random = runAdaptiveRandomForestClassifier()"
   ]
  },
  {
   "attachments": {},
   "cell_type": "markdown",
   "metadata": {},
   "source": [
    "Ploting the accuracy"
   ]
  },
  {
   "cell_type": "code",
   "execution_count": 21,
   "metadata": {},
   "outputs": [
    {
     "data": {
      "image/png": "[encoded data removed]",
      "text/plain": [
       "<Figure size 640x480 with 1 Axes>"
      ]
     },
     "metadata": {},
     "output_type": "display_data"
    }
   ],
   "source": [
    "import matplotlib.pyplot as plot\n",
    "\n",
    "accuracy_plot = plot\n",
    "accuracy_plot.xlabel('Time, Instances')\n",
    "accuracy_plot.ylabel('Accuracy %')\n",
    "accuracy_plot.title('Gradual Balanced')\n",
    "accuracy_plot.plot(no_change[0], no_change[1], label = 'No Change')\n",
    "accuracy_plot.plot(majority_cls[0], majority_cls[1], label = 'Majority Class')\n",
    "accuracy_plot.plot(hoeffding_tree[0], hoeffding_tree[1], label = 'Hoeffding Tree')\n",
    "accuracy_plot.plot(hoeffding_adaptive[0], hoeffding_adaptive[1], label = 'Hoeffding Adaptive')\n",
    "accuracy_plot.plot(SAM_KNN[0], SAM_KNN[1], label = 'SAM-KNN')\n",
    "accuracy_plot.plot(batch_incremental[0], batch_incremental[1], label = 'Batch Incremental')\n",
    "accuracy_plot.plot(adaptive_random[0], adaptive_random[1], label = 'Adaptive Random')\n",
    "accuracy_plot.legend()\n",
    "accuracy_plot.show()"
   ]
  },
  {
   "cell_type": "code",
   "execution_count": 22,
   "metadata": {},
   "outputs": [
    {
     "name": "stdout",
     "output_type": "stream",
     "text": [
      "no_change = 0.36319654427645787\n",
      "majority_cls = 0.35801295896328295\n",
      "hoeffding_tree = 0.6028941684665227\n",
      "hoeffding_adaptive = 0.6186609071274298\n",
      "SAM_KNN = 0.7488120950323974\n",
      "batch_incremental = 0.19546436285097193\n",
      "adaptive_random = 0.7789200863930885\n"
     ]
    }
   ],
   "source": [
    "print('no_change =', no_change[1][len(no_change[1]) - 1])\n",
    "print('majority_cls =', majority_cls[1][len(majority_cls[1]) - 1])\n",
    "print('hoeffding_tree =', hoeffding_tree[1][len(hoeffding_tree[1]) - 1])\n",
    "print('hoeffding_adaptive =', hoeffding_adaptive[1][len(hoeffding_adaptive[1]) - 1])\n",
    "print('SAM_KNN =', SAM_KNN[1][len(SAM_KNN[1]) - 1])\n",
    "print('batch_incremental =', batch_incremental[1][len(batch_incremental[1]) - 1])\n",
    "print('adaptive_random =', adaptive_random[1][len(adaptive_random[1]) - 1])"
   ]
  }
 ],
 "metadata": {
  "kernelspec": {
   "display_name": "Python 3.x",
   "language": "python",
   "name": "python3"
  },
  "language_info": {
   "codemirror_mode": {
    "name": "ipython",
    "version": 3
   },
   "file_extension": ".py",
   "mimetype": "text/x-python",
   "name": "python",
   "nbconvert_exporter": "python",
   "pygments_lexer": "ipython3",
   "version": "3.9.6 (default, Sep 26 2022, 11:37:49) \n[Clang 14.0.0 (clang-1400.0.29.202)]"
  },
  "orig_nbformat": 4,
  "vscode": {
   "interpreter": {
    "hash": "31f2aee4e71d21fbe5cf8b01ff0e069b9275f58929596ceb00d14d90e3e16cd6"
   }
  }
 },
 "nbformat": 4,
 "nbformat_minor": 2
}
